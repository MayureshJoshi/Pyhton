{
 "cells": [
  {
   "cell_type": "markdown",
   "metadata": {},
   "source": [
    "### String reciprocals"
   ]
  },
  {
   "cell_type": "code",
   "execution_count": null,
   "metadata": {},
   "outputs": [],
   "source": [
    "ip_str=input(\"Enter desired string: \")"
   ]
  },
  {
   "cell_type": "code",
   "execution_count": null,
   "metadata": {},
   "outputs": [],
   "source": [
    "code_range=range(ord('a'), ord('a')+26)\n",
    "al=lambda z:[chr(x) for x in z] #chr() returns the character corresponding to ascii code\n",
    "reci_dict=dict(zip(al(a),al(a[::-1]))) # Create a dictionary to look up reciprocals"
   ]
  },
  {
   "cell_type": "code",
   "execution_count": null,
   "metadata": {},
   "outputs": [],
   "source": [
    "print(*[(reci_dict.get(i.lower(),i).capitalize() if i.isupper() else reci_dict.get(i,i)) for i in ip_str],sep='')"
   ]
  }
 ],
 "metadata": {
  "kernelspec": {
   "display_name": "Python 3",
   "language": "python",
   "name": "python3"
  },
  "language_info": {
   "codemirror_mode": {
    "name": "ipython",
    "version": 3
   },
   "file_extension": ".py",
   "mimetype": "text/x-python",
   "name": "python",
   "nbconvert_exporter": "python",
   "pygments_lexer": "ipython3",
   "version": "3.6.3"
  }
 },
 "nbformat": 4,
 "nbformat_minor": 2
}
